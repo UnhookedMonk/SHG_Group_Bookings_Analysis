{
 "cells": [
  {
   "cell_type": "markdown",
   "metadata": {},
   "source": [
    "## Importation"
   ]
  },
  {
   "cell_type": "code",
   "execution_count": 2,
   "metadata": {},
   "outputs": [],
   "source": [
    "import pandas as pd\n",
    "import numpy as np\n",
    "import matplotlib as plt"
   ]
  },
  {
   "cell_type": "code",
   "execution_count": 3,
   "metadata": {},
   "outputs": [],
   "source": [
    "#import dataset\n",
    "data = pd.read_excel(\"Data/SHG_Booking_Data.xlsx\")"
   ]
  },
  {
   "cell_type": "code",
   "execution_count": 4,
   "metadata": {},
   "outputs": [
    {
     "data": {
      "text/plain": [
       "(119390, 17)"
      ]
     },
     "execution_count": 4,
     "metadata": {},
     "output_type": "execute_result"
    }
   ],
   "source": [
    "data.shape"
   ]
  },
  {
   "cell_type": "code",
   "execution_count": 5,
   "metadata": {},
   "outputs": [
    {
     "name": "stdout",
     "output_type": "stream",
     "text": [
      "<class 'pandas.core.frame.DataFrame'>\n",
      "RangeIndex: 119390 entries, 0 to 119389\n",
      "Data columns (total 17 columns):\n",
      " #   Column                Non-Null Count   Dtype         \n",
      "---  ------                --------------   -----         \n",
      " 0   Booking ID            119390 non-null  int64         \n",
      " 1   Hotel                 119390 non-null  object        \n",
      " 2   Booking Date          119390 non-null  datetime64[ns]\n",
      " 3   Arrival Date          119390 non-null  datetime64[ns]\n",
      " 4   Lead Time             119390 non-null  int64         \n",
      " 5   Nights                119390 non-null  int64         \n",
      " 6   Guests                119390 non-null  int64         \n",
      " 7   Distribution Channel  119390 non-null  object        \n",
      " 8   Customer Type         119390 non-null  object        \n",
      " 9   Country               118902 non-null  object        \n",
      " 10  Deposit Type          119390 non-null  object        \n",
      " 11  Avg Daily Rate        119390 non-null  float64       \n",
      " 12  Status                119390 non-null  object        \n",
      " 13  Status Update         119390 non-null  datetime64[ns]\n",
      " 14  Cancelled (0/1)       119390 non-null  int64         \n",
      " 15  Revenue               119390 non-null  float64       \n",
      " 16  Revenue Loss          119390 non-null  float64       \n",
      "dtypes: datetime64[ns](3), float64(3), int64(5), object(6)\n",
      "memory usage: 15.5+ MB\n"
     ]
    }
   ],
   "source": [
    "data.info()"
   ]
  },
  {
   "cell_type": "code",
   "execution_count": 6,
   "metadata": {},
   "outputs": [
    {
     "data": {
      "text/html": [
       "<div>\n",
       "<style scoped>\n",
       "    .dataframe tbody tr th:only-of-type {\n",
       "        vertical-align: middle;\n",
       "    }\n",
       "\n",
       "    .dataframe tbody tr th {\n",
       "        vertical-align: top;\n",
       "    }\n",
       "\n",
       "    .dataframe thead th {\n",
       "        text-align: right;\n",
       "    }\n",
       "</style>\n",
       "<table border=\"1\" class=\"dataframe\">\n",
       "  <thead>\n",
       "    <tr style=\"text-align: right;\">\n",
       "      <th></th>\n",
       "      <th>Booking ID</th>\n",
       "      <th>Booking Date</th>\n",
       "      <th>Arrival Date</th>\n",
       "      <th>Lead Time</th>\n",
       "      <th>Nights</th>\n",
       "      <th>Guests</th>\n",
       "      <th>Avg Daily Rate</th>\n",
       "      <th>Status Update</th>\n",
       "      <th>Cancelled (0/1)</th>\n",
       "      <th>Revenue</th>\n",
       "      <th>Revenue Loss</th>\n",
       "    </tr>\n",
       "  </thead>\n",
       "  <tbody>\n",
       "    <tr>\n",
       "      <th>count</th>\n",
       "      <td>119390.000000</td>\n",
       "      <td>119390</td>\n",
       "      <td>119390</td>\n",
       "      <td>119390.000000</td>\n",
       "      <td>119390.000000</td>\n",
       "      <td>119390.000000</td>\n",
       "      <td>119390.000000</td>\n",
       "      <td>119390</td>\n",
       "      <td>119390.000000</td>\n",
       "      <td>119390.000000</td>\n",
       "      <td>119390.000000</td>\n",
       "    </tr>\n",
       "    <tr>\n",
       "      <th>mean</th>\n",
       "      <td>59695.500000</td>\n",
       "      <td>2016-05-16 16:23:19.353379840</td>\n",
       "      <td>2016-08-28 16:39:45.727447808</td>\n",
       "      <td>104.011416</td>\n",
       "      <td>3.427900</td>\n",
       "      <td>1.968239</td>\n",
       "      <td>101.831122</td>\n",
       "      <td>2016-07-30 00:24:47.883407104</td>\n",
       "      <td>0.370416</td>\n",
       "      <td>247.931966</td>\n",
       "      <td>-109.916242</td>\n",
       "    </tr>\n",
       "    <tr>\n",
       "      <th>min</th>\n",
       "      <td>1.000000</td>\n",
       "      <td>2013-06-24 00:00:00</td>\n",
       "      <td>2015-07-01 00:00:00</td>\n",
       "      <td>0.000000</td>\n",
       "      <td>0.000000</td>\n",
       "      <td>0.000000</td>\n",
       "      <td>-6.380000</td>\n",
       "      <td>2014-10-17 00:00:00</td>\n",
       "      <td>0.000000</td>\n",
       "      <td>-63.800000</td>\n",
       "      <td>-6300.000000</td>\n",
       "    </tr>\n",
       "    <tr>\n",
       "      <th>25%</th>\n",
       "      <td>29848.250000</td>\n",
       "      <td>2015-11-28 00:00:00</td>\n",
       "      <td>2016-03-13 00:00:00</td>\n",
       "      <td>18.000000</td>\n",
       "      <td>2.000000</td>\n",
       "      <td>2.000000</td>\n",
       "      <td>69.290000</td>\n",
       "      <td>2016-02-01 00:00:00</td>\n",
       "      <td>0.000000</td>\n",
       "      <td>0.000000</td>\n",
       "      <td>0.000000</td>\n",
       "    </tr>\n",
       "    <tr>\n",
       "      <th>50%</th>\n",
       "      <td>59695.500000</td>\n",
       "      <td>2016-05-04 00:00:00</td>\n",
       "      <td>2016-09-06 00:00:00</td>\n",
       "      <td>69.000000</td>\n",
       "      <td>3.000000</td>\n",
       "      <td>2.000000</td>\n",
       "      <td>94.575000</td>\n",
       "      <td>2016-08-07 00:00:00</td>\n",
       "      <td>0.000000</td>\n",
       "      <td>176.000000</td>\n",
       "      <td>0.000000</td>\n",
       "    </tr>\n",
       "    <tr>\n",
       "      <th>75%</th>\n",
       "      <td>89542.750000</td>\n",
       "      <td>2016-12-09 00:00:00</td>\n",
       "      <td>2017-03-18 00:00:00</td>\n",
       "      <td>160.000000</td>\n",
       "      <td>4.000000</td>\n",
       "      <td>2.000000</td>\n",
       "      <td>126.000000</td>\n",
       "      <td>2017-02-08 00:00:00</td>\n",
       "      <td>1.000000</td>\n",
       "      <td>342.977500</td>\n",
       "      <td>0.000000</td>\n",
       "    </tr>\n",
       "    <tr>\n",
       "      <th>max</th>\n",
       "      <td>119390.000000</td>\n",
       "      <td>2017-08-31 00:00:00</td>\n",
       "      <td>2017-08-31 00:00:00</td>\n",
       "      <td>737.000000</td>\n",
       "      <td>69.000000</td>\n",
       "      <td>55.000000</td>\n",
       "      <td>5400.000000</td>\n",
       "      <td>2017-09-14 00:00:00</td>\n",
       "      <td>1.000000</td>\n",
       "      <td>7590.000000</td>\n",
       "      <td>0.000000</td>\n",
       "    </tr>\n",
       "    <tr>\n",
       "      <th>std</th>\n",
       "      <td>34465.068657</td>\n",
       "      <td>NaN</td>\n",
       "      <td>NaN</td>\n",
       "      <td>106.863097</td>\n",
       "      <td>2.557439</td>\n",
       "      <td>0.722394</td>\n",
       "      <td>50.535790</td>\n",
       "      <td>NaN</td>\n",
       "      <td>0.482918</td>\n",
       "      <td>300.921393</td>\n",
       "      <td>277.102641</td>\n",
       "    </tr>\n",
       "  </tbody>\n",
       "</table>\n",
       "</div>"
      ],
      "text/plain": [
       "          Booking ID                   Booking Date   \n",
       "count  119390.000000                         119390  \\\n",
       "mean    59695.500000  2016-05-16 16:23:19.353379840   \n",
       "min         1.000000            2013-06-24 00:00:00   \n",
       "25%     29848.250000            2015-11-28 00:00:00   \n",
       "50%     59695.500000            2016-05-04 00:00:00   \n",
       "75%     89542.750000            2016-12-09 00:00:00   \n",
       "max    119390.000000            2017-08-31 00:00:00   \n",
       "std     34465.068657                            NaN   \n",
       "\n",
       "                        Arrival Date      Lead Time         Nights   \n",
       "count                         119390  119390.000000  119390.000000  \\\n",
       "mean   2016-08-28 16:39:45.727447808     104.011416       3.427900   \n",
       "min              2015-07-01 00:00:00       0.000000       0.000000   \n",
       "25%              2016-03-13 00:00:00      18.000000       2.000000   \n",
       "50%              2016-09-06 00:00:00      69.000000       3.000000   \n",
       "75%              2017-03-18 00:00:00     160.000000       4.000000   \n",
       "max              2017-08-31 00:00:00     737.000000      69.000000   \n",
       "std                              NaN     106.863097       2.557439   \n",
       "\n",
       "              Guests  Avg Daily Rate                  Status Update   \n",
       "count  119390.000000   119390.000000                         119390  \\\n",
       "mean        1.968239      101.831122  2016-07-30 00:24:47.883407104   \n",
       "min         0.000000       -6.380000            2014-10-17 00:00:00   \n",
       "25%         2.000000       69.290000            2016-02-01 00:00:00   \n",
       "50%         2.000000       94.575000            2016-08-07 00:00:00   \n",
       "75%         2.000000      126.000000            2017-02-08 00:00:00   \n",
       "max        55.000000     5400.000000            2017-09-14 00:00:00   \n",
       "std         0.722394       50.535790                            NaN   \n",
       "\n",
       "       Cancelled (0/1)        Revenue   Revenue Loss  \n",
       "count    119390.000000  119390.000000  119390.000000  \n",
       "mean          0.370416     247.931966    -109.916242  \n",
       "min           0.000000     -63.800000   -6300.000000  \n",
       "25%           0.000000       0.000000       0.000000  \n",
       "50%           0.000000     176.000000       0.000000  \n",
       "75%           1.000000     342.977500       0.000000  \n",
       "max           1.000000    7590.000000       0.000000  \n",
       "std           0.482918     300.921393     277.102641  "
      ]
     },
     "execution_count": 6,
     "metadata": {},
     "output_type": "execute_result"
    }
   ],
   "source": [
    "data.describe()"
   ]
  },
  {
   "cell_type": "code",
   "execution_count": 7,
   "metadata": {},
   "outputs": [
    {
     "data": {
      "text/html": [
       "<div>\n",
       "<style scoped>\n",
       "    .dataframe tbody tr th:only-of-type {\n",
       "        vertical-align: middle;\n",
       "    }\n",
       "\n",
       "    .dataframe tbody tr th {\n",
       "        vertical-align: top;\n",
       "    }\n",
       "\n",
       "    .dataframe thead th {\n",
       "        text-align: right;\n",
       "    }\n",
       "</style>\n",
       "<table border=\"1\" class=\"dataframe\">\n",
       "  <thead>\n",
       "    <tr style=\"text-align: right;\">\n",
       "      <th></th>\n",
       "      <th>Booking ID</th>\n",
       "      <th>Hotel</th>\n",
       "      <th>Booking Date</th>\n",
       "      <th>Arrival Date</th>\n",
       "      <th>Lead Time</th>\n",
       "      <th>Nights</th>\n",
       "      <th>Guests</th>\n",
       "      <th>Distribution Channel</th>\n",
       "      <th>Customer Type</th>\n",
       "      <th>Country</th>\n",
       "      <th>Deposit Type</th>\n",
       "      <th>Avg Daily Rate</th>\n",
       "      <th>Status</th>\n",
       "      <th>Status Update</th>\n",
       "      <th>Cancelled (0/1)</th>\n",
       "      <th>Revenue</th>\n",
       "      <th>Revenue Loss</th>\n",
       "    </tr>\n",
       "  </thead>\n",
       "  <tbody>\n",
       "    <tr>\n",
       "      <th>0</th>\n",
       "      <td>1</td>\n",
       "      <td>Resort</td>\n",
       "      <td>2014-07-24</td>\n",
       "      <td>2015-07-01</td>\n",
       "      <td>342</td>\n",
       "      <td>0</td>\n",
       "      <td>2</td>\n",
       "      <td>Direct</td>\n",
       "      <td>Transient</td>\n",
       "      <td>Portugal</td>\n",
       "      <td>No Deposit</td>\n",
       "      <td>0.0</td>\n",
       "      <td>Check-Out</td>\n",
       "      <td>2015-07-01</td>\n",
       "      <td>0</td>\n",
       "      <td>0.0</td>\n",
       "      <td>0.0</td>\n",
       "    </tr>\n",
       "    <tr>\n",
       "      <th>1</th>\n",
       "      <td>2</td>\n",
       "      <td>Resort</td>\n",
       "      <td>2013-06-24</td>\n",
       "      <td>2015-07-01</td>\n",
       "      <td>737</td>\n",
       "      <td>0</td>\n",
       "      <td>2</td>\n",
       "      <td>Direct</td>\n",
       "      <td>Transient</td>\n",
       "      <td>Portugal</td>\n",
       "      <td>No Deposit</td>\n",
       "      <td>0.0</td>\n",
       "      <td>Check-Out</td>\n",
       "      <td>2015-07-01</td>\n",
       "      <td>0</td>\n",
       "      <td>0.0</td>\n",
       "      <td>0.0</td>\n",
       "    </tr>\n",
       "    <tr>\n",
       "      <th>2</th>\n",
       "      <td>3</td>\n",
       "      <td>Resort</td>\n",
       "      <td>2015-06-24</td>\n",
       "      <td>2015-07-01</td>\n",
       "      <td>7</td>\n",
       "      <td>1</td>\n",
       "      <td>1</td>\n",
       "      <td>Direct</td>\n",
       "      <td>Transient</td>\n",
       "      <td>United Kingdom</td>\n",
       "      <td>No Deposit</td>\n",
       "      <td>75.0</td>\n",
       "      <td>Check-Out</td>\n",
       "      <td>2015-07-02</td>\n",
       "      <td>0</td>\n",
       "      <td>75.0</td>\n",
       "      <td>0.0</td>\n",
       "    </tr>\n",
       "    <tr>\n",
       "      <th>3</th>\n",
       "      <td>4</td>\n",
       "      <td>Resort</td>\n",
       "      <td>2015-06-18</td>\n",
       "      <td>2015-07-01</td>\n",
       "      <td>13</td>\n",
       "      <td>1</td>\n",
       "      <td>1</td>\n",
       "      <td>Corporate</td>\n",
       "      <td>Transient</td>\n",
       "      <td>United Kingdom</td>\n",
       "      <td>No Deposit</td>\n",
       "      <td>75.0</td>\n",
       "      <td>Check-Out</td>\n",
       "      <td>2015-07-02</td>\n",
       "      <td>0</td>\n",
       "      <td>75.0</td>\n",
       "      <td>0.0</td>\n",
       "    </tr>\n",
       "    <tr>\n",
       "      <th>4</th>\n",
       "      <td>5</td>\n",
       "      <td>Resort</td>\n",
       "      <td>2015-06-17</td>\n",
       "      <td>2015-07-01</td>\n",
       "      <td>14</td>\n",
       "      <td>2</td>\n",
       "      <td>2</td>\n",
       "      <td>Online Travel Agent</td>\n",
       "      <td>Transient</td>\n",
       "      <td>United Kingdom</td>\n",
       "      <td>No Deposit</td>\n",
       "      <td>98.0</td>\n",
       "      <td>Check-Out</td>\n",
       "      <td>2015-07-03</td>\n",
       "      <td>0</td>\n",
       "      <td>196.0</td>\n",
       "      <td>0.0</td>\n",
       "    </tr>\n",
       "  </tbody>\n",
       "</table>\n",
       "</div>"
      ],
      "text/plain": [
       "   Booking ID   Hotel Booking Date Arrival Date  Lead Time  Nights  Guests   \n",
       "0           1  Resort   2014-07-24   2015-07-01        342       0       2  \\\n",
       "1           2  Resort   2013-06-24   2015-07-01        737       0       2   \n",
       "2           3  Resort   2015-06-24   2015-07-01          7       1       1   \n",
       "3           4  Resort   2015-06-18   2015-07-01         13       1       1   \n",
       "4           5  Resort   2015-06-17   2015-07-01         14       2       2   \n",
       "\n",
       "  Distribution Channel Customer Type         Country Deposit Type   \n",
       "0               Direct     Transient        Portugal   No Deposit  \\\n",
       "1               Direct     Transient        Portugal   No Deposit   \n",
       "2               Direct     Transient  United Kingdom   No Deposit   \n",
       "3            Corporate     Transient  United Kingdom   No Deposit   \n",
       "4  Online Travel Agent     Transient  United Kingdom   No Deposit   \n",
       "\n",
       "   Avg Daily Rate     Status Status Update  Cancelled (0/1)  Revenue   \n",
       "0             0.0  Check-Out    2015-07-01                0      0.0  \\\n",
       "1             0.0  Check-Out    2015-07-01                0      0.0   \n",
       "2            75.0  Check-Out    2015-07-02                0     75.0   \n",
       "3            75.0  Check-Out    2015-07-02                0     75.0   \n",
       "4            98.0  Check-Out    2015-07-03                0    196.0   \n",
       "\n",
       "   Revenue Loss  \n",
       "0           0.0  \n",
       "1           0.0  \n",
       "2           0.0  \n",
       "3           0.0  \n",
       "4           0.0  "
      ]
     },
     "execution_count": 7,
     "metadata": {},
     "output_type": "execute_result"
    }
   ],
   "source": [
    "data.head()"
   ]
  },
  {
   "cell_type": "code",
   "execution_count": 8,
   "metadata": {},
   "outputs": [
    {
     "data": {
      "text/plain": [
       "Booking ID                0\n",
       "Hotel                     0\n",
       "Booking Date              0\n",
       "Arrival Date              0\n",
       "Lead Time                 0\n",
       "Nights                    0\n",
       "Guests                    0\n",
       "Distribution Channel      0\n",
       "Customer Type             0\n",
       "Country                 488\n",
       "Deposit Type              0\n",
       "Avg Daily Rate            0\n",
       "Status                    0\n",
       "Status Update             0\n",
       "Cancelled (0/1)           0\n",
       "Revenue                   0\n",
       "Revenue Loss              0\n",
       "dtype: int64"
      ]
     },
     "execution_count": 8,
     "metadata": {},
     "output_type": "execute_result"
    }
   ],
   "source": [
    "data.isnull().sum()"
   ]
  },
  {
   "cell_type": "code",
   "execution_count": 9,
   "metadata": {},
   "outputs": [
    {
     "data": {
      "text/plain": [
       "array(['Transient', 'Contract', 'Transient-Party', 'Group'], dtype=object)"
      ]
     },
     "execution_count": 9,
     "metadata": {},
     "output_type": "execute_result"
    }
   ],
   "source": [
    "data[\"Customer Type\"].unique()"
   ]
  },
  {
   "cell_type": "code",
   "execution_count": 10,
   "metadata": {},
   "outputs": [
    {
     "data": {
      "text/plain": [
       "array(['No Deposit', 'Refundable', 'Non Refundable'], dtype=object)"
      ]
     },
     "execution_count": 10,
     "metadata": {},
     "output_type": "execute_result"
    }
   ],
   "source": [
    "data[\"Deposit Type\"].unique()"
   ]
  },
  {
   "cell_type": "code",
   "execution_count": 11,
   "metadata": {},
   "outputs": [
    {
     "data": {
      "text/plain": [
       "array(['Check-Out', 'Canceled', 'No-Show'], dtype=object)"
      ]
     },
     "execution_count": 11,
     "metadata": {},
     "output_type": "execute_result"
    }
   ],
   "source": [
    "data[\"Status\"].unique()\n"
   ]
  },
  {
   "cell_type": "code",
   "execution_count": 12,
   "metadata": {},
   "outputs": [
    {
     "name": "stdout",
     "output_type": "stream",
     "text": [
      "Unique values for column 'Hotel': ['Resort' 'City']\n",
      "Unique values for column 'Distribution Channel': ['Direct' 'Corporate' 'Online Travel Agent' 'Offline Travel Agent'\n",
      " 'Undefined']\n",
      "Unique values for column 'Customer Type': ['Transient' 'Contract' 'Transient-Party' 'Group']\n",
      "Unique values for column 'Country': ['Portugal' 'United Kingdom' 'United States' 'Spain' 'Ireland' 'France'\n",
      " nan 'Romania' 'Norway' 'Oman' 'Argentina' 'Poland' 'Germany' 'Belgium'\n",
      " 'Switzerland' 'China' 'Greece' 'Italy' 'Netherlands' 'Denmark'\n",
      " 'Russian Federation' 'Sweden' 'Australia' 'Estonia' 'Czech Republic'\n",
      " 'Brazil' 'Finland' 'Mozambique' 'Botswana' 'Luxembourg' 'Slovenia'\n",
      " 'Albania' 'India' 'Mexico' 'Morocco' 'Ukraine' 'San Marino' 'Latvia'\n",
      " 'Puerto Rico' 'Serbia' 'Chile' 'Austria' 'Belarus' 'Lithuania' 'Turkey'\n",
      " 'South Africa' 'Angola' 'Israel' 'Cayman Islands' 'Zambia' 'Cape Verde'\n",
      " 'Zimbabwe' 'Algeria' 'Republic of Korea' 'Costa Rica' 'Hungary'\n",
      " 'United Arab Emirates' 'Tunisia' 'Jamaica' 'Croatia' 'Hong Kong' 'Iran'\n",
      " 'Georgia' 'Andorra' 'Gibraltar' 'Uruguay' 'Jersey'\n",
      " 'Central African Republic' 'Cyprus' 'Colombia' 'Guernsey' 'Kuwait'\n",
      " 'Nigeria' 'Maldives' 'Venezuela' 'Slovakia' 'Fiji' 'Kazakhstan'\n",
      " 'Pakistan' 'Indonesia' 'Lebanon' 'Philippines' 'Senegal' 'Seychelles'\n",
      " 'Azerbaijan' 'Bahrain' 'New Zealand' 'Thailand' 'Dominican Republic'\n",
      " 'Macedonia' 'Malaysia' 'Armenia' 'Japan' 'Sri Lanka' 'Cuba' 'Cameroon'\n",
      " 'Bosnia and Herzegovina' 'Mauritius' 'Comoros' 'Suriname' 'Uganda'\n",
      " 'Bulgaria' \"Cote d'Ivoire\" 'Jordan' 'Syrian Arab Republic' 'Singapore'\n",
      " 'Burundi' 'Saudi Arabia' 'Viet Nam' 'Palau' 'Qatar' 'Egypt' 'Peru'\n",
      " 'Malta' 'Malawi' 'Ecuador' 'Madagascar' 'Iceland' 'Uzbekistan' 'Nepal'\n",
      " 'Bahamas' 'Macao' 'Togo' 'Taiwan' 'Djibouti' 'Sao Tome and Principe'\n",
      " 'Saint Kitts and Nevis' 'Ethiopia' 'Iraq' 'Honduras' 'Rwanda' 'Cambodia'\n",
      " 'Monaco' 'Bangladesh' 'Isle of Man' 'Tajikistan' 'Nicaragua' 'Benin'\n",
      " 'Virgin Islands' 'Tanzania' 'Gabon' 'Ghana' 'East Timor' 'Guadeloupe'\n",
      " 'Kenya' 'Liechtenstein' 'Guinea-Bissau' 'Montenegro' 'Mayotte'\n",
      " 'Faroe Islands' 'Myanmar' 'Panama' 'Burkina Faso'\n",
      " 'Libyan Arab Jamahiriya' 'Mali' 'Namibia' 'Bolivia' 'Paraguay' 'Barbados'\n",
      " 'Aruba' 'Anguilla' 'El Salvador' 'Dominica' 'French Polynesia' 'Guyana'\n",
      " 'Saint Lucia' 'Antarctica' 'Guatemala' 'American Samoa' 'Mauritania'\n",
      " 'New Caledonia' 'Kiribati' 'Sudan' 'French Southern Territories'\n",
      " 'Sierra Leone']\n",
      "Unique values for column 'Deposit Type': ['No Deposit' 'Refundable' 'Non Refundable']\n",
      "Unique values for column 'Status': ['Check-Out' 'Canceled' 'No-Show']\n"
     ]
    }
   ],
   "source": [
    "object_columns = data.select_dtypes(include=['object']).columns\n",
    "\n",
    "# Display unique values for each object column\n",
    "for column in object_columns:\n",
    "    unique_values = data[column].unique()\n",
    "    print(f\"Unique values for column '{column}': {unique_values}\")"
   ]
  },
  {
   "cell_type": "markdown",
   "metadata": {},
   "source": [
    "### Univariate Analysis"
   ]
  },
  {
   "cell_type": "code",
   "execution_count": null,
   "metadata": {},
   "outputs": [],
   "source": []
  }
 ],
 "metadata": {
  "kernelspec": {
   "display_name": "Python 3",
   "language": "python",
   "name": "python3"
  },
  "language_info": {
   "codemirror_mode": {
    "name": "ipython",
    "version": 3
   },
   "file_extension": ".py",
   "mimetype": "text/x-python",
   "name": "python",
   "nbconvert_exporter": "python",
   "pygments_lexer": "ipython3",
   "version": "3.11.3"
  }
 },
 "nbformat": 4,
 "nbformat_minor": 2
}
